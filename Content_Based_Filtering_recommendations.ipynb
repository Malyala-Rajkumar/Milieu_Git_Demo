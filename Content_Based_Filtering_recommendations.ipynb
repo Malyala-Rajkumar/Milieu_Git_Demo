{
 "cells": [
  {
   "cell_type": "code",
   "execution_count": 1,
   "id": "837fb2a4",
   "metadata": {},
   "outputs": [],
   "source": [
    "import numpy as np\n",
    "import pandas as pd"
   ]
  },
  {
   "cell_type": "code",
   "execution_count": 2,
   "id": "457e4b91",
   "metadata": {},
   "outputs": [],
   "source": [
    "#Visualization Libraries\n",
    "\n",
    "import matplotlib.pyplot as plt\n",
    "import seaborn as sns\n",
    "\n",
    "#Text Handling Libraries\n",
    "from sklearn.feature_extraction.text import TfidfVectorizer, CountVectorizer\n",
    "from sklearn.metrics.pairwise import linear_kernel, cosine_similarity"
   ]
  },
  {
   "cell_type": "code",
   "execution_count": 3,
   "id": "55016301",
   "metadata": {},
   "outputs": [
    {
     "data": {
      "text/html": [
       "<div>\n",
       "<style scoped>\n",
       "    .dataframe tbody tr th:only-of-type {\n",
       "        vertical-align: middle;\n",
       "    }\n",
       "\n",
       "    .dataframe tbody tr th {\n",
       "        vertical-align: top;\n",
       "    }\n",
       "\n",
       "    .dataframe thead th {\n",
       "        text-align: right;\n",
       "    }\n",
       "</style>\n",
       "<table border=\"1\" class=\"dataframe\">\n",
       "  <thead>\n",
       "    <tr style=\"text-align: right;\">\n",
       "      <th></th>\n",
       "      <th>index</th>\n",
       "      <th>product</th>\n",
       "      <th>category</th>\n",
       "      <th>sub_category</th>\n",
       "      <th>brand</th>\n",
       "      <th>sale_price</th>\n",
       "      <th>market_price</th>\n",
       "      <th>type</th>\n",
       "      <th>rating</th>\n",
       "      <th>description</th>\n",
       "    </tr>\n",
       "  </thead>\n",
       "  <tbody>\n",
       "    <tr>\n",
       "      <th>0</th>\n",
       "      <td>1</td>\n",
       "      <td>Garlic Oil - Vegetarian Capsule 500 mg</td>\n",
       "      <td>Beauty &amp; Hygiene</td>\n",
       "      <td>Hair Care</td>\n",
       "      <td>Sri Sri Ayurveda</td>\n",
       "      <td>220.0</td>\n",
       "      <td>220.0</td>\n",
       "      <td>Hair Oil &amp; Serum</td>\n",
       "      <td>4.1</td>\n",
       "      <td>This Product contains Garlic Oil that is known...</td>\n",
       "    </tr>\n",
       "    <tr>\n",
       "      <th>1</th>\n",
       "      <td>2</td>\n",
       "      <td>Water Bottle - Orange</td>\n",
       "      <td>Kitchen, Garden &amp; Pets</td>\n",
       "      <td>Storage &amp; Accessories</td>\n",
       "      <td>Mastercook</td>\n",
       "      <td>180.0</td>\n",
       "      <td>180.0</td>\n",
       "      <td>Water &amp; Fridge Bottles</td>\n",
       "      <td>2.3</td>\n",
       "      <td>Each product is microwave safe (without lid), ...</td>\n",
       "    </tr>\n",
       "    <tr>\n",
       "      <th>2</th>\n",
       "      <td>3</td>\n",
       "      <td>Brass Angle Deep - Plain, No.2</td>\n",
       "      <td>Cleaning &amp; Household</td>\n",
       "      <td>Pooja Needs</td>\n",
       "      <td>Trm</td>\n",
       "      <td>119.0</td>\n",
       "      <td>250.0</td>\n",
       "      <td>Lamp &amp; Lamp Oil</td>\n",
       "      <td>3.4</td>\n",
       "      <td>A perfect gift for all occasions, be it your m...</td>\n",
       "    </tr>\n",
       "    <tr>\n",
       "      <th>3</th>\n",
       "      <td>4</td>\n",
       "      <td>Cereal Flip Lid Container/Storage Jar - Assort...</td>\n",
       "      <td>Cleaning &amp; Household</td>\n",
       "      <td>Bins &amp; Bathroom Ware</td>\n",
       "      <td>Nakoda</td>\n",
       "      <td>149.0</td>\n",
       "      <td>176.0</td>\n",
       "      <td>Laundry, Storage Baskets</td>\n",
       "      <td>3.7</td>\n",
       "      <td>Multipurpose container with an attractive desi...</td>\n",
       "    </tr>\n",
       "    <tr>\n",
       "      <th>4</th>\n",
       "      <td>5</td>\n",
       "      <td>Creme Soft Soap - For Hands &amp; Body</td>\n",
       "      <td>Beauty &amp; Hygiene</td>\n",
       "      <td>Bath &amp; Hand Wash</td>\n",
       "      <td>Nivea</td>\n",
       "      <td>162.0</td>\n",
       "      <td>162.0</td>\n",
       "      <td>Bathing Bars &amp; Soaps</td>\n",
       "      <td>4.4</td>\n",
       "      <td>Nivea Creme Soft Soap gives your skin the best...</td>\n",
       "    </tr>\n",
       "  </tbody>\n",
       "</table>\n",
       "</div>"
      ],
      "text/plain": [
       "   index                                            product  \\\n",
       "0      1             Garlic Oil - Vegetarian Capsule 500 mg   \n",
       "1      2                              Water Bottle - Orange   \n",
       "2      3                     Brass Angle Deep - Plain, No.2   \n",
       "3      4  Cereal Flip Lid Container/Storage Jar - Assort...   \n",
       "4      5                 Creme Soft Soap - For Hands & Body   \n",
       "\n",
       "                 category           sub_category              brand  \\\n",
       "0        Beauty & Hygiene              Hair Care  Sri Sri Ayurveda    \n",
       "1  Kitchen, Garden & Pets  Storage & Accessories         Mastercook   \n",
       "2    Cleaning & Household            Pooja Needs                Trm   \n",
       "3    Cleaning & Household   Bins & Bathroom Ware             Nakoda   \n",
       "4        Beauty & Hygiene       Bath & Hand Wash              Nivea   \n",
       "\n",
       "   sale_price  market_price                      type  rating  \\\n",
       "0       220.0         220.0          Hair Oil & Serum     4.1   \n",
       "1       180.0         180.0    Water & Fridge Bottles     2.3   \n",
       "2       119.0         250.0           Lamp & Lamp Oil     3.4   \n",
       "3       149.0         176.0  Laundry, Storage Baskets     3.7   \n",
       "4       162.0         162.0      Bathing Bars & Soaps     4.4   \n",
       "\n",
       "                                         description  \n",
       "0  This Product contains Garlic Oil that is known...  \n",
       "1  Each product is microwave safe (without lid), ...  \n",
       "2  A perfect gift for all occasions, be it your m...  \n",
       "3  Multipurpose container with an attractive desi...  \n",
       "4  Nivea Creme Soft Soap gives your skin the best...  "
      ]
     },
     "execution_count": 3,
     "metadata": {},
     "output_type": "execute_result"
    }
   ],
   "source": [
    "df = pd.read_csv('D:\\DataSet Information\\BigBasket Products.csv')\n",
    "\n",
    "df.head()"
   ]
  },
  {
   "cell_type": "code",
   "execution_count": 4,
   "id": "df565c0d",
   "metadata": {},
   "outputs": [
    {
     "data": {
      "text/plain": [
       "(27555, 10)"
      ]
     },
     "execution_count": 4,
     "metadata": {},
     "output_type": "execute_result"
    }
   ],
   "source": [
    "df.shape"
   ]
  },
  {
   "cell_type": "code",
   "execution_count": 5,
   "id": "d6803608",
   "metadata": {},
   "outputs": [],
   "source": [
    "df = df.drop('index', axis = 1)"
   ]
  },
  {
   "cell_type": "code",
   "execution_count": 6,
   "id": "fb2407e9",
   "metadata": {},
   "outputs": [
    {
     "data": {
      "text/plain": [
       "(27555, 9)"
      ]
     },
     "execution_count": 6,
     "metadata": {},
     "output_type": "execute_result"
    }
   ],
   "source": [
    "df.shape"
   ]
  },
  {
   "cell_type": "code",
   "execution_count": 7,
   "id": "87ef58d6",
   "metadata": {},
   "outputs": [
    {
     "name": "stdout",
     "output_type": "stream",
     "text": [
      "<class 'pandas.core.frame.DataFrame'>\n",
      "RangeIndex: 27555 entries, 0 to 27554\n",
      "Data columns (total 9 columns):\n",
      " #   Column        Non-Null Count  Dtype  \n",
      "---  ------        --------------  -----  \n",
      " 0   product       27554 non-null  object \n",
      " 1   category      27555 non-null  object \n",
      " 2   sub_category  27555 non-null  object \n",
      " 3   brand         27554 non-null  object \n",
      " 4   sale_price    27555 non-null  float64\n",
      " 5   market_price  27555 non-null  float64\n",
      " 6   type          27555 non-null  object \n",
      " 7   rating        18929 non-null  float64\n",
      " 8   description   27440 non-null  object \n",
      "dtypes: float64(3), object(6)\n",
      "memory usage: 1.9+ MB\n"
     ]
    }
   ],
   "source": [
    "df.info()"
   ]
  },
  {
   "cell_type": "code",
   "execution_count": 8,
   "id": "21a10a52",
   "metadata": {},
   "outputs": [
    {
     "data": {
      "text/plain": [
       "Index(['product', 'category', 'sub_category', 'brand', 'sale_price',\n",
       "       'market_price', 'type', 'rating', 'description'],\n",
       "      dtype='object')"
      ]
     },
     "execution_count": 8,
     "metadata": {},
     "output_type": "execute_result"
    }
   ],
   "source": [
    "df.columns"
   ]
  },
  {
   "cell_type": "code",
   "execution_count": 9,
   "id": "c1ecf835",
   "metadata": {},
   "outputs": [
    {
     "data": {
      "text/plain": [
       "product            1\n",
       "category           0\n",
       "sub_category       0\n",
       "brand              1\n",
       "sale_price         0\n",
       "market_price       0\n",
       "type               0\n",
       "rating          8626\n",
       "description      115\n",
       "dtype: int64"
      ]
     },
     "execution_count": 9,
     "metadata": {},
     "output_type": "execute_result"
    }
   ],
   "source": [
    "df.isnull().sum()"
   ]
  },
  {
   "cell_type": "code",
   "execution_count": 10,
   "id": "4bc2c629",
   "metadata": {},
   "outputs": [
    {
     "name": "stdout",
     "output_type": "stream",
     "text": [
      "Percentage Null Data In Each Column\n",
      "------------------------------\n",
      "product : 0.00\n",
      "category : 0.00\n",
      "sub_category : 0.00\n",
      "brand : 0.00\n",
      "sale_price : 0.00\n",
      "market_price : 0.00\n",
      "type : 0.00\n",
      "rating : 31.30\n",
      "description : 0.42\n"
     ]
    }
   ],
   "source": [
    "# Percentage Of Columns \n",
    "\n",
    "print('Percentage Null Data In Each Column')\n",
    "print('-'*30)\n",
    "for col in df.columns:\n",
    "    null_count = df[col].isnull().sum()\n",
    "    total_count = df.shape[0]\n",
    "    print(\"{} : {:.2f}\".format(col,null_count/total_count * 100))"
   ]
  },
  {
   "cell_type": "code",
   "execution_count": 11,
   "id": "55186751",
   "metadata": {},
   "outputs": [
    {
     "name": "stdout",
     "output_type": "stream",
     "text": [
      "Total Null Data\n",
      "3.53\n"
     ]
    }
   ],
   "source": [
    "# Total Null Data \n",
    "\n",
    "print('Total Null Data')\n",
    "null_count = df.isnull().sum().sum()\n",
    "total_count = np.product(df.shape)\n",
    "print(\"{:.2f}\".format(null_count/total_count * 100))"
   ]
  },
  {
   "cell_type": "markdown",
   "id": "96721ec7",
   "metadata": {},
   "source": [
    "So overall 3% data is missing but 31% of ratings are missing. Since we are going to create a recommender system, \n",
    "let's drop the null values as their will still be over 69% data for recommendation purposes which is enough for us."
   ]
  },
  {
   "cell_type": "code",
   "execution_count": 12,
   "id": "a01e94e5",
   "metadata": {},
   "outputs": [],
   "source": [
    "df = df.dropna()"
   ]
  },
  {
   "cell_type": "code",
   "execution_count": 13,
   "id": "65078df6",
   "metadata": {},
   "outputs": [
    {
     "data": {
      "text/plain": [
       "product         0\n",
       "category        0\n",
       "sub_category    0\n",
       "brand           0\n",
       "sale_price      0\n",
       "market_price    0\n",
       "type            0\n",
       "rating          0\n",
       "description     0\n",
       "dtype: int64"
      ]
     },
     "execution_count": 13,
     "metadata": {},
     "output_type": "execute_result"
    }
   ],
   "source": [
    "df.isnull().sum()"
   ]
  },
  {
   "cell_type": "code",
   "execution_count": 14,
   "id": "32f1021a",
   "metadata": {},
   "outputs": [
    {
     "data": {
      "text/html": [
       "<div>\n",
       "<style scoped>\n",
       "    .dataframe tbody tr th:only-of-type {\n",
       "        vertical-align: middle;\n",
       "    }\n",
       "\n",
       "    .dataframe tbody tr th {\n",
       "        vertical-align: top;\n",
       "    }\n",
       "\n",
       "    .dataframe thead th {\n",
       "        text-align: right;\n",
       "    }\n",
       "</style>\n",
       "<table border=\"1\" class=\"dataframe\">\n",
       "  <thead>\n",
       "    <tr style=\"text-align: right;\">\n",
       "      <th></th>\n",
       "      <th>product</th>\n",
       "      <th>category</th>\n",
       "      <th>sub_category</th>\n",
       "      <th>brand</th>\n",
       "      <th>sale_price</th>\n",
       "      <th>market_price</th>\n",
       "      <th>type</th>\n",
       "      <th>rating</th>\n",
       "      <th>description</th>\n",
       "    </tr>\n",
       "  </thead>\n",
       "  <tbody>\n",
       "    <tr>\n",
       "      <th>0</th>\n",
       "      <td>Garlic Oil - Vegetarian Capsule 500 mg</td>\n",
       "      <td>Beauty &amp; Hygiene</td>\n",
       "      <td>Hair Care</td>\n",
       "      <td>Sri Sri Ayurveda</td>\n",
       "      <td>220.0</td>\n",
       "      <td>220.0</td>\n",
       "      <td>Hair Oil &amp; Serum</td>\n",
       "      <td>4.1</td>\n",
       "      <td>This Product contains Garlic Oil that is known...</td>\n",
       "    </tr>\n",
       "    <tr>\n",
       "      <th>1</th>\n",
       "      <td>Water Bottle - Orange</td>\n",
       "      <td>Kitchen, Garden &amp; Pets</td>\n",
       "      <td>Storage &amp; Accessories</td>\n",
       "      <td>Mastercook</td>\n",
       "      <td>180.0</td>\n",
       "      <td>180.0</td>\n",
       "      <td>Water &amp; Fridge Bottles</td>\n",
       "      <td>2.3</td>\n",
       "      <td>Each product is microwave safe (without lid), ...</td>\n",
       "    </tr>\n",
       "    <tr>\n",
       "      <th>2</th>\n",
       "      <td>Brass Angle Deep - Plain, No.2</td>\n",
       "      <td>Cleaning &amp; Household</td>\n",
       "      <td>Pooja Needs</td>\n",
       "      <td>Trm</td>\n",
       "      <td>119.0</td>\n",
       "      <td>250.0</td>\n",
       "      <td>Lamp &amp; Lamp Oil</td>\n",
       "      <td>3.4</td>\n",
       "      <td>A perfect gift for all occasions, be it your m...</td>\n",
       "    </tr>\n",
       "    <tr>\n",
       "      <th>3</th>\n",
       "      <td>Cereal Flip Lid Container/Storage Jar - Assort...</td>\n",
       "      <td>Cleaning &amp; Household</td>\n",
       "      <td>Bins &amp; Bathroom Ware</td>\n",
       "      <td>Nakoda</td>\n",
       "      <td>149.0</td>\n",
       "      <td>176.0</td>\n",
       "      <td>Laundry, Storage Baskets</td>\n",
       "      <td>3.7</td>\n",
       "      <td>Multipurpose container with an attractive desi...</td>\n",
       "    </tr>\n",
       "    <tr>\n",
       "      <th>4</th>\n",
       "      <td>Creme Soft Soap - For Hands &amp; Body</td>\n",
       "      <td>Beauty &amp; Hygiene</td>\n",
       "      <td>Bath &amp; Hand Wash</td>\n",
       "      <td>Nivea</td>\n",
       "      <td>162.0</td>\n",
       "      <td>162.0</td>\n",
       "      <td>Bathing Bars &amp; Soaps</td>\n",
       "      <td>4.4</td>\n",
       "      <td>Nivea Creme Soft Soap gives your skin the best...</td>\n",
       "    </tr>\n",
       "  </tbody>\n",
       "</table>\n",
       "</div>"
      ],
      "text/plain": [
       "                                             product                category  \\\n",
       "0             Garlic Oil - Vegetarian Capsule 500 mg        Beauty & Hygiene   \n",
       "1                              Water Bottle - Orange  Kitchen, Garden & Pets   \n",
       "2                     Brass Angle Deep - Plain, No.2    Cleaning & Household   \n",
       "3  Cereal Flip Lid Container/Storage Jar - Assort...    Cleaning & Household   \n",
       "4                 Creme Soft Soap - For Hands & Body        Beauty & Hygiene   \n",
       "\n",
       "            sub_category              brand  sale_price  market_price  \\\n",
       "0              Hair Care  Sri Sri Ayurveda        220.0         220.0   \n",
       "1  Storage & Accessories         Mastercook       180.0         180.0   \n",
       "2            Pooja Needs                Trm       119.0         250.0   \n",
       "3   Bins & Bathroom Ware             Nakoda       149.0         176.0   \n",
       "4       Bath & Hand Wash              Nivea       162.0         162.0   \n",
       "\n",
       "                       type  rating  \\\n",
       "0          Hair Oil & Serum     4.1   \n",
       "1    Water & Fridge Bottles     2.3   \n",
       "2           Lamp & Lamp Oil     3.4   \n",
       "3  Laundry, Storage Baskets     3.7   \n",
       "4      Bathing Bars & Soaps     4.4   \n",
       "\n",
       "                                         description  \n",
       "0  This Product contains Garlic Oil that is known...  \n",
       "1  Each product is microwave safe (without lid), ...  \n",
       "2  A perfect gift for all occasions, be it your m...  \n",
       "3  Multipurpose container with an attractive desi...  \n",
       "4  Nivea Creme Soft Soap gives your skin the best...  "
      ]
     },
     "execution_count": 14,
     "metadata": {},
     "output_type": "execute_result"
    }
   ],
   "source": [
    "df.head()"
   ]
  },
  {
   "cell_type": "code",
   "execution_count": 15,
   "id": "038add8d",
   "metadata": {},
   "outputs": [
    {
     "data": {
      "text/plain": [
       "(18840, 9)"
      ]
     },
     "execution_count": 15,
     "metadata": {},
     "output_type": "execute_result"
    }
   ],
   "source": [
    "df.shape"
   ]
  },
  {
   "cell_type": "code",
   "execution_count": 16,
   "id": "d67708ef",
   "metadata": {},
   "outputs": [
    {
     "data": {
      "text/plain": [
       "Turmeric Powder/Arisina Pudi          23\n",
       "Soft Drink                            12\n",
       "Cow Ghee/Tuppa                        11\n",
       "Ghee/Tuppa                            11\n",
       "Powder - Coriander                    10\n",
       "Casting Creme Gloss Hair Color        10\n",
       "Colorsilk Hair Colour With Keratin    10\n",
       "Hand Sanitizer                         9\n",
       "Anti Dandruff Shampoo                  9\n",
       "Extra Virgin Olive Oil                 9\n",
       "Name: product, dtype: int64"
      ]
     },
     "execution_count": 16,
     "metadata": {},
     "output_type": "execute_result"
    }
   ],
   "source": [
    "df['product'].value_counts().head(10)"
   ]
  },
  {
   "cell_type": "code",
   "execution_count": 17,
   "id": "21b55726",
   "metadata": {},
   "outputs": [
    {
     "data": {
      "text/plain": [
       "Beauty & Hygiene            5460\n",
       "Kitchen, Garden & Pets      2494\n",
       "Snacks & Branded Foods      2468\n",
       "Gourmet & World Food        2364\n",
       "Foodgrains, Oil & Masala    2173\n",
       "Cleaning & Household        2091\n",
       "Bakery, Cakes & Dairy        665\n",
       "Beverages                    630\n",
       "Baby Care                    495\n",
       "Name: category, dtype: int64"
      ]
     },
     "execution_count": 17,
     "metadata": {},
     "output_type": "execute_result"
    }
   ],
   "source": [
    "df['category'].value_counts().head(10)"
   ]
  },
  {
   "cell_type": "code",
   "execution_count": 18,
   "id": "220f60c3",
   "metadata": {},
   "outputs": [
    {
     "data": {
      "text/plain": [
       "Skin Care                1641\n",
       "Hair Care                 818\n",
       "Bath & Hand Wash          808\n",
       "Masalas & Spices          764\n",
       "Storage & Accessories     658\n",
       "Men's Grooming            649\n",
       "Fragrances & Deos         627\n",
       "Crockery & Cutlery        621\n",
       "Ready To Cook & Eat       557\n",
       "Organic Staples           550\n",
       "Name: sub_category, dtype: int64"
      ]
     },
     "execution_count": 18,
     "metadata": {},
     "output_type": "execute_result"
    }
   ],
   "source": [
    "df['sub_category'].value_counts().head(10)"
   ]
  },
  {
   "cell_type": "code",
   "execution_count": 19,
   "id": "343c3bd7",
   "metadata": {},
   "outputs": [
    {
     "data": {
      "text/plain": [
       "bb Royal          278\n",
       "BB Home           172\n",
       "Amul              153\n",
       "Himalaya          139\n",
       "Cello             104\n",
       "BIOTIQUE          103\n",
       "DP                101\n",
       "Keya              101\n",
       "Organic Tattva     99\n",
       "MTR                97\n",
       "Name: brand, dtype: int64"
      ]
     },
     "execution_count": 19,
     "metadata": {},
     "output_type": "execute_result"
    }
   ],
   "source": [
    "df['brand'].value_counts().head(10)"
   ]
  },
  {
   "cell_type": "code",
   "execution_count": 20,
   "id": "1176e829",
   "metadata": {},
   "outputs": [
    {
     "data": {
      "text/plain": [
       "Face Care                 1094\n",
       "Men's Deodorants           404\n",
       "Shampoo & Conditioner      390\n",
       "Blended Masalas            343\n",
       "Containers Sets            332\n",
       "                          ... \n",
       "Health Supplements           1\n",
       "Bagels & Baguette            1\n",
       "Gift Wraps & Bags            1\n",
       "Gourmet Tea & Tea Bags       1\n",
       "Gourmet Popcorn              1\n",
       "Name: type, Length: 358, dtype: int64"
      ]
     },
     "execution_count": 20,
     "metadata": {},
     "output_type": "execute_result"
    }
   ],
   "source": [
    "df.type.value_counts()"
   ]
  },
  {
   "cell_type": "markdown",
   "id": "b8ac8c7c",
   "metadata": {},
   "source": [
    "## Content Based Filtering "
   ]
  },
  {
   "cell_type": "code",
   "execution_count": 21,
   "id": "738af27e",
   "metadata": {},
   "outputs": [
    {
     "data": {
      "text/html": [
       "<div>\n",
       "<style scoped>\n",
       "    .dataframe tbody tr th:only-of-type {\n",
       "        vertical-align: middle;\n",
       "    }\n",
       "\n",
       "    .dataframe tbody tr th {\n",
       "        vertical-align: top;\n",
       "    }\n",
       "\n",
       "    .dataframe thead th {\n",
       "        text-align: right;\n",
       "    }\n",
       "</style>\n",
       "<table border=\"1\" class=\"dataframe\">\n",
       "  <thead>\n",
       "    <tr style=\"text-align: right;\">\n",
       "      <th></th>\n",
       "      <th>product</th>\n",
       "      <th>category</th>\n",
       "      <th>sub_category</th>\n",
       "      <th>brand</th>\n",
       "      <th>sale_price</th>\n",
       "      <th>market_price</th>\n",
       "      <th>type</th>\n",
       "      <th>rating</th>\n",
       "      <th>description</th>\n",
       "    </tr>\n",
       "  </thead>\n",
       "  <tbody>\n",
       "    <tr>\n",
       "      <th>0</th>\n",
       "      <td>Garlic Oil - Vegetarian Capsule 500 mg</td>\n",
       "      <td>Beauty &amp; Hygiene</td>\n",
       "      <td>Hair Care</td>\n",
       "      <td>Sri Sri Ayurveda</td>\n",
       "      <td>220.0</td>\n",
       "      <td>220.0</td>\n",
       "      <td>Hair Oil &amp; Serum</td>\n",
       "      <td>4.1</td>\n",
       "      <td>This Product contains Garlic Oil that is known...</td>\n",
       "    </tr>\n",
       "    <tr>\n",
       "      <th>1</th>\n",
       "      <td>Water Bottle - Orange</td>\n",
       "      <td>Kitchen, Garden &amp; Pets</td>\n",
       "      <td>Storage &amp; Accessories</td>\n",
       "      <td>Mastercook</td>\n",
       "      <td>180.0</td>\n",
       "      <td>180.0</td>\n",
       "      <td>Water &amp; Fridge Bottles</td>\n",
       "      <td>2.3</td>\n",
       "      <td>Each product is microwave safe (without lid), ...</td>\n",
       "    </tr>\n",
       "    <tr>\n",
       "      <th>2</th>\n",
       "      <td>Brass Angle Deep - Plain, No.2</td>\n",
       "      <td>Cleaning &amp; Household</td>\n",
       "      <td>Pooja Needs</td>\n",
       "      <td>Trm</td>\n",
       "      <td>119.0</td>\n",
       "      <td>250.0</td>\n",
       "      <td>Lamp &amp; Lamp Oil</td>\n",
       "      <td>3.4</td>\n",
       "      <td>A perfect gift for all occasions, be it your m...</td>\n",
       "    </tr>\n",
       "    <tr>\n",
       "      <th>3</th>\n",
       "      <td>Cereal Flip Lid Container/Storage Jar - Assort...</td>\n",
       "      <td>Cleaning &amp; Household</td>\n",
       "      <td>Bins &amp; Bathroom Ware</td>\n",
       "      <td>Nakoda</td>\n",
       "      <td>149.0</td>\n",
       "      <td>176.0</td>\n",
       "      <td>Laundry, Storage Baskets</td>\n",
       "      <td>3.7</td>\n",
       "      <td>Multipurpose container with an attractive desi...</td>\n",
       "    </tr>\n",
       "    <tr>\n",
       "      <th>4</th>\n",
       "      <td>Creme Soft Soap - For Hands &amp; Body</td>\n",
       "      <td>Beauty &amp; Hygiene</td>\n",
       "      <td>Bath &amp; Hand Wash</td>\n",
       "      <td>Nivea</td>\n",
       "      <td>162.0</td>\n",
       "      <td>162.0</td>\n",
       "      <td>Bathing Bars &amp; Soaps</td>\n",
       "      <td>4.4</td>\n",
       "      <td>Nivea Creme Soft Soap gives your skin the best...</td>\n",
       "    </tr>\n",
       "  </tbody>\n",
       "</table>\n",
       "</div>"
      ],
      "text/plain": [
       "                                             product                category  \\\n",
       "0             Garlic Oil - Vegetarian Capsule 500 mg        Beauty & Hygiene   \n",
       "1                              Water Bottle - Orange  Kitchen, Garden & Pets   \n",
       "2                     Brass Angle Deep - Plain, No.2    Cleaning & Household   \n",
       "3  Cereal Flip Lid Container/Storage Jar - Assort...    Cleaning & Household   \n",
       "4                 Creme Soft Soap - For Hands & Body        Beauty & Hygiene   \n",
       "\n",
       "            sub_category              brand  sale_price  market_price  \\\n",
       "0              Hair Care  Sri Sri Ayurveda        220.0         220.0   \n",
       "1  Storage & Accessories         Mastercook       180.0         180.0   \n",
       "2            Pooja Needs                Trm       119.0         250.0   \n",
       "3   Bins & Bathroom Ware             Nakoda       149.0         176.0   \n",
       "4       Bath & Hand Wash              Nivea       162.0         162.0   \n",
       "\n",
       "                       type  rating  \\\n",
       "0          Hair Oil & Serum     4.1   \n",
       "1    Water & Fridge Bottles     2.3   \n",
       "2           Lamp & Lamp Oil     3.4   \n",
       "3  Laundry, Storage Baskets     3.7   \n",
       "4      Bathing Bars & Soaps     4.4   \n",
       "\n",
       "                                         description  \n",
       "0  This Product contains Garlic Oil that is known...  \n",
       "1  Each product is microwave safe (without lid), ...  \n",
       "2  A perfect gift for all occasions, be it your m...  \n",
       "3  Multipurpose container with an attractive desi...  \n",
       "4  Nivea Creme Soft Soap gives your skin the best...  "
      ]
     },
     "execution_count": 21,
     "metadata": {},
     "output_type": "execute_result"
    }
   ],
   "source": [
    "df.head()"
   ]
  },
  {
   "cell_type": "code",
   "execution_count": 22,
   "id": "e45f2f44",
   "metadata": {},
   "outputs": [
    {
     "data": {
      "text/plain": [
       "(18840, 9)"
      ]
     },
     "execution_count": 22,
     "metadata": {},
     "output_type": "execute_result"
    }
   ],
   "source": [
    "df.shape"
   ]
  },
  {
   "cell_type": "markdown",
   "id": "0215fffb",
   "metadata": {},
   "source": [
    "Notice that a product can be in multiple catergories and sub_categories and they are separated with a &.\n",
    "Let's split them into a list for futher processes"
   ]
  },
  {
   "cell_type": "code",
   "execution_count": 23,
   "id": "c48bd65d",
   "metadata": {},
   "outputs": [],
   "source": [
    "rmv_spc = lambda a:a.strip()\n",
    "\n",
    "get_list = lambda a:list(map(rmv_spc,re.split('& |, |\\*|\\n', a)))"
   ]
  },
  {
   "cell_type": "code",
   "execution_count": 24,
   "id": "90d4cb62",
   "metadata": {},
   "outputs": [
    {
     "data": {
      "text/plain": [
       "<function __main__.<lambda>(a)>"
      ]
     },
     "execution_count": 24,
     "metadata": {},
     "output_type": "execute_result"
    }
   ],
   "source": [
    "get_list"
   ]
  },
  {
   "cell_type": "code",
   "execution_count": 25,
   "id": "fe70e79e",
   "metadata": {},
   "outputs": [
    {
     "data": {
      "text/plain": [
       "['A', 'B', 'C']"
      ]
     },
     "execution_count": 25,
     "metadata": {},
     "output_type": "execute_result"
    }
   ],
   "source": [
    "get_list('A & B, C')"
   ]
  },
  {
   "cell_type": "code",
   "execution_count": 26,
   "id": "b60b4ca2",
   "metadata": {},
   "outputs": [],
   "source": [
    "for col in ['category', 'sub_category', 'type']:\n",
    "    \n",
    "    df[col] = df[col].apply(get_list)"
   ]
  },
  {
   "cell_type": "code",
   "execution_count": 27,
   "id": "f0b8a772",
   "metadata": {},
   "outputs": [
    {
     "data": {
      "text/html": [
       "<div>\n",
       "<style scoped>\n",
       "    .dataframe tbody tr th:only-of-type {\n",
       "        vertical-align: middle;\n",
       "    }\n",
       "\n",
       "    .dataframe tbody tr th {\n",
       "        vertical-align: top;\n",
       "    }\n",
       "\n",
       "    .dataframe thead th {\n",
       "        text-align: right;\n",
       "    }\n",
       "</style>\n",
       "<table border=\"1\" class=\"dataframe\">\n",
       "  <thead>\n",
       "    <tr style=\"text-align: right;\">\n",
       "      <th></th>\n",
       "      <th>product</th>\n",
       "      <th>category</th>\n",
       "      <th>sub_category</th>\n",
       "      <th>brand</th>\n",
       "      <th>sale_price</th>\n",
       "      <th>market_price</th>\n",
       "      <th>type</th>\n",
       "      <th>rating</th>\n",
       "      <th>description</th>\n",
       "    </tr>\n",
       "  </thead>\n",
       "  <tbody>\n",
       "    <tr>\n",
       "      <th>0</th>\n",
       "      <td>Garlic Oil - Vegetarian Capsule 500 mg</td>\n",
       "      <td>[Beauty, Hygiene]</td>\n",
       "      <td>[Hair Care]</td>\n",
       "      <td>Sri Sri Ayurveda</td>\n",
       "      <td>220.0</td>\n",
       "      <td>220.0</td>\n",
       "      <td>[Hair Oil, Serum]</td>\n",
       "      <td>4.1</td>\n",
       "      <td>This Product contains Garlic Oil that is known...</td>\n",
       "    </tr>\n",
       "    <tr>\n",
       "      <th>1</th>\n",
       "      <td>Water Bottle - Orange</td>\n",
       "      <td>[Kitchen, Garden, Pets]</td>\n",
       "      <td>[Storage, Accessories]</td>\n",
       "      <td>Mastercook</td>\n",
       "      <td>180.0</td>\n",
       "      <td>180.0</td>\n",
       "      <td>[Water, Fridge Bottles]</td>\n",
       "      <td>2.3</td>\n",
       "      <td>Each product is microwave safe (without lid), ...</td>\n",
       "    </tr>\n",
       "    <tr>\n",
       "      <th>2</th>\n",
       "      <td>Brass Angle Deep - Plain, No.2</td>\n",
       "      <td>[Cleaning, Household]</td>\n",
       "      <td>[Pooja Needs]</td>\n",
       "      <td>Trm</td>\n",
       "      <td>119.0</td>\n",
       "      <td>250.0</td>\n",
       "      <td>[Lamp, Lamp Oil]</td>\n",
       "      <td>3.4</td>\n",
       "      <td>A perfect gift for all occasions, be it your m...</td>\n",
       "    </tr>\n",
       "    <tr>\n",
       "      <th>3</th>\n",
       "      <td>Cereal Flip Lid Container/Storage Jar - Assort...</td>\n",
       "      <td>[Cleaning, Household]</td>\n",
       "      <td>[Bins, Bathroom Ware]</td>\n",
       "      <td>Nakoda</td>\n",
       "      <td>149.0</td>\n",
       "      <td>176.0</td>\n",
       "      <td>[Laundry, Storage Baskets]</td>\n",
       "      <td>3.7</td>\n",
       "      <td>Multipurpose container with an attractive desi...</td>\n",
       "    </tr>\n",
       "    <tr>\n",
       "      <th>4</th>\n",
       "      <td>Creme Soft Soap - For Hands &amp; Body</td>\n",
       "      <td>[Beauty, Hygiene]</td>\n",
       "      <td>[Bath, Hand Wash]</td>\n",
       "      <td>Nivea</td>\n",
       "      <td>162.0</td>\n",
       "      <td>162.0</td>\n",
       "      <td>[Bathing Bars, Soaps]</td>\n",
       "      <td>4.4</td>\n",
       "      <td>Nivea Creme Soft Soap gives your skin the best...</td>\n",
       "    </tr>\n",
       "  </tbody>\n",
       "</table>\n",
       "</div>"
      ],
      "text/plain": [
       "                                             product                 category  \\\n",
       "0             Garlic Oil - Vegetarian Capsule 500 mg        [Beauty, Hygiene]   \n",
       "1                              Water Bottle - Orange  [Kitchen, Garden, Pets]   \n",
       "2                     Brass Angle Deep - Plain, No.2    [Cleaning, Household]   \n",
       "3  Cereal Flip Lid Container/Storage Jar - Assort...    [Cleaning, Household]   \n",
       "4                 Creme Soft Soap - For Hands & Body        [Beauty, Hygiene]   \n",
       "\n",
       "             sub_category              brand  sale_price  market_price  \\\n",
       "0             [Hair Care]  Sri Sri Ayurveda        220.0         220.0   \n",
       "1  [Storage, Accessories]         Mastercook       180.0         180.0   \n",
       "2           [Pooja Needs]                Trm       119.0         250.0   \n",
       "3   [Bins, Bathroom Ware]             Nakoda       149.0         176.0   \n",
       "4       [Bath, Hand Wash]              Nivea       162.0         162.0   \n",
       "\n",
       "                         type  rating  \\\n",
       "0           [Hair Oil, Serum]     4.1   \n",
       "1     [Water, Fridge Bottles]     2.3   \n",
       "2            [Lamp, Lamp Oil]     3.4   \n",
       "3  [Laundry, Storage Baskets]     3.7   \n",
       "4       [Bathing Bars, Soaps]     4.4   \n",
       "\n",
       "                                         description  \n",
       "0  This Product contains Garlic Oil that is known...  \n",
       "1  Each product is microwave safe (without lid), ...  \n",
       "2  A perfect gift for all occasions, be it your m...  \n",
       "3  Multipurpose container with an attractive desi...  \n",
       "4  Nivea Creme Soft Soap gives your skin the best...  "
      ]
     },
     "execution_count": 27,
     "metadata": {},
     "output_type": "execute_result"
    }
   ],
   "source": [
    "df.head()"
   ]
  },
  {
   "cell_type": "markdown",
   "id": "2ef9447e",
   "metadata": {},
   "source": [
    "To avoid duplicacy, we will be converting everything to lowercase and also removing spaces between words.\n",
    "This will ensure that our recommendor doesn't consider Chocolate of Cholocate IceCream and Chocolate Bar as the same."
   ]
  },
  {
   "cell_type": "code",
   "execution_count": 28,
   "id": "1956aaa4",
   "metadata": {},
   "outputs": [],
   "source": [
    "def cleaner(x):\n",
    "    \n",
    "    if isinstance(x, list):\n",
    "        \n",
    "        return [str.lower(i.replace(\" \", \"\")) for i in x]\n",
    "    \n",
    "    else:\n",
    "        \n",
    "        if isinstance(x, str):\n",
    "            \n",
    "            return str.lower(x.replace(\" \", \"\"))\n",
    "        \n",
    "        else:\n",
    "            \n",
    "            return ''\n",
    "        "
   ]
  },
  {
   "cell_type": "code",
   "execution_count": 29,
   "id": "99019c75",
   "metadata": {},
   "outputs": [
    {
     "data": {
      "text/html": [
       "<div>\n",
       "<style scoped>\n",
       "    .dataframe tbody tr th:only-of-type {\n",
       "        vertical-align: middle;\n",
       "    }\n",
       "\n",
       "    .dataframe tbody tr th {\n",
       "        vertical-align: top;\n",
       "    }\n",
       "\n",
       "    .dataframe thead th {\n",
       "        text-align: right;\n",
       "    }\n",
       "</style>\n",
       "<table border=\"1\" class=\"dataframe\">\n",
       "  <thead>\n",
       "    <tr style=\"text-align: right;\">\n",
       "      <th></th>\n",
       "      <th>product</th>\n",
       "      <th>category</th>\n",
       "      <th>sub_category</th>\n",
       "      <th>brand</th>\n",
       "      <th>sale_price</th>\n",
       "      <th>market_price</th>\n",
       "      <th>type</th>\n",
       "      <th>rating</th>\n",
       "      <th>description</th>\n",
       "    </tr>\n",
       "  </thead>\n",
       "  <tbody>\n",
       "    <tr>\n",
       "      <th>0</th>\n",
       "      <td>Garlic Oil - Vegetarian Capsule 500 mg</td>\n",
       "      <td>[Beauty, Hygiene]</td>\n",
       "      <td>[Hair Care]</td>\n",
       "      <td>Sri Sri Ayurveda</td>\n",
       "      <td>220.0</td>\n",
       "      <td>220.0</td>\n",
       "      <td>[Hair Oil, Serum]</td>\n",
       "      <td>4.1</td>\n",
       "      <td>This Product contains Garlic Oil that is known...</td>\n",
       "    </tr>\n",
       "    <tr>\n",
       "      <th>1</th>\n",
       "      <td>Water Bottle - Orange</td>\n",
       "      <td>[Kitchen, Garden, Pets]</td>\n",
       "      <td>[Storage, Accessories]</td>\n",
       "      <td>Mastercook</td>\n",
       "      <td>180.0</td>\n",
       "      <td>180.0</td>\n",
       "      <td>[Water, Fridge Bottles]</td>\n",
       "      <td>2.3</td>\n",
       "      <td>Each product is microwave safe (without lid), ...</td>\n",
       "    </tr>\n",
       "    <tr>\n",
       "      <th>2</th>\n",
       "      <td>Brass Angle Deep - Plain, No.2</td>\n",
       "      <td>[Cleaning, Household]</td>\n",
       "      <td>[Pooja Needs]</td>\n",
       "      <td>Trm</td>\n",
       "      <td>119.0</td>\n",
       "      <td>250.0</td>\n",
       "      <td>[Lamp, Lamp Oil]</td>\n",
       "      <td>3.4</td>\n",
       "      <td>A perfect gift for all occasions, be it your m...</td>\n",
       "    </tr>\n",
       "    <tr>\n",
       "      <th>3</th>\n",
       "      <td>Cereal Flip Lid Container/Storage Jar - Assort...</td>\n",
       "      <td>[Cleaning, Household]</td>\n",
       "      <td>[Bins, Bathroom Ware]</td>\n",
       "      <td>Nakoda</td>\n",
       "      <td>149.0</td>\n",
       "      <td>176.0</td>\n",
       "      <td>[Laundry, Storage Baskets]</td>\n",
       "      <td>3.7</td>\n",
       "      <td>Multipurpose container with an attractive desi...</td>\n",
       "    </tr>\n",
       "  </tbody>\n",
       "</table>\n",
       "</div>"
      ],
      "text/plain": [
       "                                             product                 category  \\\n",
       "0             Garlic Oil - Vegetarian Capsule 500 mg        [Beauty, Hygiene]   \n",
       "1                              Water Bottle - Orange  [Kitchen, Garden, Pets]   \n",
       "2                     Brass Angle Deep - Plain, No.2    [Cleaning, Household]   \n",
       "3  Cereal Flip Lid Container/Storage Jar - Assort...    [Cleaning, Household]   \n",
       "\n",
       "             sub_category              brand  sale_price  market_price  \\\n",
       "0             [Hair Care]  Sri Sri Ayurveda        220.0         220.0   \n",
       "1  [Storage, Accessories]         Mastercook       180.0         180.0   \n",
       "2           [Pooja Needs]                Trm       119.0         250.0   \n",
       "3   [Bins, Bathroom Ware]             Nakoda       149.0         176.0   \n",
       "\n",
       "                         type  rating  \\\n",
       "0           [Hair Oil, Serum]     4.1   \n",
       "1     [Water, Fridge Bottles]     2.3   \n",
       "2            [Lamp, Lamp Oil]     3.4   \n",
       "3  [Laundry, Storage Baskets]     3.7   \n",
       "\n",
       "                                         description  \n",
       "0  This Product contains Garlic Oil that is known...  \n",
       "1  Each product is microwave safe (without lid), ...  \n",
       "2  A perfect gift for all occasions, be it your m...  \n",
       "3  Multipurpose container with an attractive desi...  "
      ]
     },
     "execution_count": 29,
     "metadata": {},
     "output_type": "execute_result"
    }
   ],
   "source": [
    "df.head(4)"
   ]
  },
  {
   "cell_type": "markdown",
   "id": "f1204d21",
   "metadata": {},
   "source": [
    " We will now be joining the values of category, sub_category, type and brand"
   ]
  },
  {
   "cell_type": "code",
   "execution_count": 30,
   "id": "5c3190aa",
   "metadata": {},
   "outputs": [],
   "source": [
    "def merge(x):\n",
    "    \n",
    "    return ' '.join(x['category']) + ' ' + ' '.join(x['sub_category']) + ' '+x['brand']+' ' +' '.join( x['type'])\n",
    "\n",
    "df['merging'] = df.apply(merge, axis=1)"
   ]
  },
  {
   "cell_type": "code",
   "execution_count": 31,
   "id": "2fd4dfba",
   "metadata": {},
   "outputs": [
    {
     "data": {
      "text/plain": [
       "0    Beauty Hygiene Hair Care Sri Sri Ayurveda  Hai...\n",
       "1    Kitchen Garden Pets Storage Accessories Master...\n",
       "2     Cleaning Household Pooja Needs Trm Lamp Lamp Oil\n",
       "3    Cleaning Household Bins Bathroom Ware Nakoda L...\n",
       "4    Beauty Hygiene Bath Hand Wash Nivea Bathing Ba...\n",
       "Name: merging, dtype: object"
      ]
     },
     "execution_count": 31,
     "metadata": {},
     "output_type": "execute_result"
    }
   ],
   "source": [
    "df.merging.head(5)"
   ]
  },
  {
   "cell_type": "markdown",
   "id": "f35ac599",
   "metadata": {},
   "source": [
    "We need to Count the String Vectors and then compute the Cosine Similarity Score."
   ]
  },
  {
   "cell_type": "code",
   "execution_count": 32,
   "id": "5c382d8e",
   "metadata": {},
   "outputs": [
    {
     "data": {
      "text/html": [
       "<div>\n",
       "<style scoped>\n",
       "    .dataframe tbody tr th:only-of-type {\n",
       "        vertical-align: middle;\n",
       "    }\n",
       "\n",
       "    .dataframe tbody tr th {\n",
       "        vertical-align: top;\n",
       "    }\n",
       "\n",
       "    .dataframe thead th {\n",
       "        text-align: right;\n",
       "    }\n",
       "</style>\n",
       "<table border=\"1\" class=\"dataframe\">\n",
       "  <thead>\n",
       "    <tr style=\"text-align: right;\">\n",
       "      <th></th>\n",
       "      <th>product</th>\n",
       "      <th>category</th>\n",
       "      <th>sub_category</th>\n",
       "      <th>brand</th>\n",
       "      <th>sale_price</th>\n",
       "      <th>market_price</th>\n",
       "      <th>type</th>\n",
       "      <th>rating</th>\n",
       "      <th>description</th>\n",
       "      <th>merging</th>\n",
       "    </tr>\n",
       "  </thead>\n",
       "  <tbody>\n",
       "    <tr>\n",
       "      <th>0</th>\n",
       "      <td>Garlic Oil - Vegetarian Capsule 500 mg</td>\n",
       "      <td>[Beauty, Hygiene]</td>\n",
       "      <td>[Hair Care]</td>\n",
       "      <td>Sri Sri Ayurveda</td>\n",
       "      <td>220.0</td>\n",
       "      <td>220.0</td>\n",
       "      <td>[Hair Oil, Serum]</td>\n",
       "      <td>4.1</td>\n",
       "      <td>This Product contains Garlic Oil that is known...</td>\n",
       "      <td>Beauty Hygiene Hair Care Sri Sri Ayurveda  Hai...</td>\n",
       "    </tr>\n",
       "    <tr>\n",
       "      <th>1</th>\n",
       "      <td>Water Bottle - Orange</td>\n",
       "      <td>[Kitchen, Garden, Pets]</td>\n",
       "      <td>[Storage, Accessories]</td>\n",
       "      <td>Mastercook</td>\n",
       "      <td>180.0</td>\n",
       "      <td>180.0</td>\n",
       "      <td>[Water, Fridge Bottles]</td>\n",
       "      <td>2.3</td>\n",
       "      <td>Each product is microwave safe (without lid), ...</td>\n",
       "      <td>Kitchen Garden Pets Storage Accessories Master...</td>\n",
       "    </tr>\n",
       "    <tr>\n",
       "      <th>2</th>\n",
       "      <td>Brass Angle Deep - Plain, No.2</td>\n",
       "      <td>[Cleaning, Household]</td>\n",
       "      <td>[Pooja Needs]</td>\n",
       "      <td>Trm</td>\n",
       "      <td>119.0</td>\n",
       "      <td>250.0</td>\n",
       "      <td>[Lamp, Lamp Oil]</td>\n",
       "      <td>3.4</td>\n",
       "      <td>A perfect gift for all occasions, be it your m...</td>\n",
       "      <td>Cleaning Household Pooja Needs Trm Lamp Lamp Oil</td>\n",
       "    </tr>\n",
       "    <tr>\n",
       "      <th>3</th>\n",
       "      <td>Cereal Flip Lid Container/Storage Jar - Assort...</td>\n",
       "      <td>[Cleaning, Household]</td>\n",
       "      <td>[Bins, Bathroom Ware]</td>\n",
       "      <td>Nakoda</td>\n",
       "      <td>149.0</td>\n",
       "      <td>176.0</td>\n",
       "      <td>[Laundry, Storage Baskets]</td>\n",
       "      <td>3.7</td>\n",
       "      <td>Multipurpose container with an attractive desi...</td>\n",
       "      <td>Cleaning Household Bins Bathroom Ware Nakoda L...</td>\n",
       "    </tr>\n",
       "    <tr>\n",
       "      <th>4</th>\n",
       "      <td>Creme Soft Soap - For Hands &amp; Body</td>\n",
       "      <td>[Beauty, Hygiene]</td>\n",
       "      <td>[Bath, Hand Wash]</td>\n",
       "      <td>Nivea</td>\n",
       "      <td>162.0</td>\n",
       "      <td>162.0</td>\n",
       "      <td>[Bathing Bars, Soaps]</td>\n",
       "      <td>4.4</td>\n",
       "      <td>Nivea Creme Soft Soap gives your skin the best...</td>\n",
       "      <td>Beauty Hygiene Bath Hand Wash Nivea Bathing Ba...</td>\n",
       "    </tr>\n",
       "  </tbody>\n",
       "</table>\n",
       "</div>"
      ],
      "text/plain": [
       "                                             product                 category  \\\n",
       "0             Garlic Oil - Vegetarian Capsule 500 mg        [Beauty, Hygiene]   \n",
       "1                              Water Bottle - Orange  [Kitchen, Garden, Pets]   \n",
       "2                     Brass Angle Deep - Plain, No.2    [Cleaning, Household]   \n",
       "3  Cereal Flip Lid Container/Storage Jar - Assort...    [Cleaning, Household]   \n",
       "4                 Creme Soft Soap - For Hands & Body        [Beauty, Hygiene]   \n",
       "\n",
       "             sub_category              brand  sale_price  market_price  \\\n",
       "0             [Hair Care]  Sri Sri Ayurveda        220.0         220.0   \n",
       "1  [Storage, Accessories]         Mastercook       180.0         180.0   \n",
       "2           [Pooja Needs]                Trm       119.0         250.0   \n",
       "3   [Bins, Bathroom Ware]             Nakoda       149.0         176.0   \n",
       "4       [Bath, Hand Wash]              Nivea       162.0         162.0   \n",
       "\n",
       "                         type  rating  \\\n",
       "0           [Hair Oil, Serum]     4.1   \n",
       "1     [Water, Fridge Bottles]     2.3   \n",
       "2            [Lamp, Lamp Oil]     3.4   \n",
       "3  [Laundry, Storage Baskets]     3.7   \n",
       "4       [Bathing Bars, Soaps]     4.4   \n",
       "\n",
       "                                         description  \\\n",
       "0  This Product contains Garlic Oil that is known...   \n",
       "1  Each product is microwave safe (without lid), ...   \n",
       "2  A perfect gift for all occasions, be it your m...   \n",
       "3  Multipurpose container with an attractive desi...   \n",
       "4  Nivea Creme Soft Soap gives your skin the best...   \n",
       "\n",
       "                                             merging  \n",
       "0  Beauty Hygiene Hair Care Sri Sri Ayurveda  Hai...  \n",
       "1  Kitchen Garden Pets Storage Accessories Master...  \n",
       "2   Cleaning Household Pooja Needs Trm Lamp Lamp Oil  \n",
       "3  Cleaning Household Bins Bathroom Ware Nakoda L...  \n",
       "4  Beauty Hygiene Bath Hand Wash Nivea Bathing Ba...  "
      ]
     },
     "execution_count": 32,
     "metadata": {},
     "output_type": "execute_result"
    }
   ],
   "source": [
    "df.head()"
   ]
  },
  {
   "cell_type": "code",
   "execution_count": 33,
   "id": "fff02668",
   "metadata": {},
   "outputs": [],
   "source": [
    "df.to_csv(\"final_df.csv\",index=False)"
   ]
  },
  {
   "cell_type": "code",
   "execution_count": 34,
   "id": "81b56be7",
   "metadata": {},
   "outputs": [],
   "source": [
    "count = CountVectorizer(stop_words='english')\n",
    "count_matrix = count.fit_transform(df['merging'])"
   ]
  },
  {
   "cell_type": "markdown",
   "id": "a95f041b",
   "metadata": {},
   "source": [
    "We need to Count the String Vectors and then compute the Cosine Similarity Score."
   ]
  },
  {
   "cell_type": "code",
   "execution_count": 35,
   "id": "04872acf",
   "metadata": {},
   "outputs": [
    {
     "data": {
      "text/plain": [
       "array([[1.        , 0.        , 0.08451543, ..., 0.        , 0.        ,\n",
       "        0.16116459],\n",
       "       [0.        , 1.        , 0.        , ..., 0.        , 0.        ,\n",
       "        0.        ],\n",
       "       [0.08451543, 0.        , 1.        , ..., 0.        , 0.        ,\n",
       "        0.        ],\n",
       "       ...,\n",
       "       [0.        , 0.        , 0.        , ..., 1.        , 0.        ,\n",
       "        0.        ],\n",
       "       [0.        , 0.        , 0.        , ..., 0.        , 1.        ,\n",
       "        0.        ],\n",
       "       [0.16116459, 0.        , 0.        , ..., 0.        , 0.        ,\n",
       "        1.        ]])"
      ]
     },
     "execution_count": 35,
     "metadata": {},
     "output_type": "execute_result"
    }
   ],
   "source": [
    "cosine_sim = cosine_similarity(count_matrix, count_matrix)\n",
    "\n",
    "cosine_sim"
   ]
  },
  {
   "cell_type": "code",
   "execution_count": 36,
   "id": "2bfc7982",
   "metadata": {},
   "outputs": [],
   "source": [
    "import pickle\n",
    "\n",
    "# Assuming you have already calculated the cosine similarity and stored it in the cosine_sim variable.\n",
    "\n",
    "# Save cosine_sim as a pickle file\n",
    "with open('cosine_sim.pkl', 'wb') as file:\n",
    "    pickle.dump(cosine_sim, file)"
   ]
  },
  {
   "cell_type": "code",
   "execution_count": 37,
   "id": "40a5be88",
   "metadata": {},
   "outputs": [],
   "source": [
    "df = df.reset_index()\n",
    "\n",
    "indices = pd.Series(df.index, index=df['product'])"
   ]
  },
  {
   "cell_type": "code",
   "execution_count": 38,
   "id": "a5f944cf",
   "metadata": {},
   "outputs": [],
   "source": [
    "def get_recommendations(title, cosine_sim = cosine_sim):\n",
    "    \n",
    "    idx = indices[title]\n",
    "\n",
    "    sim_scores = list(enumerate(cosine_sim[idx]))\n",
    "\n",
    "    sim_scores = sorted(sim_scores, key=lambda x: x[1], reverse=True)\n",
    "\n",
    "    sim_scores = sim_scores[1:11]\n",
    "\n",
    "    similarity_indices = [i[0] for i in sim_scores]\n",
    "\n",
    "    return df['product'].iloc[similarity_indices].tolist()"
   ]
  },
  {
   "cell_type": "code",
   "execution_count": 39,
   "id": "7859a524",
   "metadata": {},
   "outputs": [],
   "source": [
    "recommendation = get_recommendations('Water Bottle - Orange', cosine_sim)"
   ]
  },
  {
   "cell_type": "code",
   "execution_count": 40,
   "id": "5b035543",
   "metadata": {
    "scrolled": true
   },
   "outputs": [
    {
     "data": {
      "text/plain": [
       "['Glass Water Bottle - Aquaria Organic Purple',\n",
       " 'H2O Unbreakable Water Bottle - Pink',\n",
       " 'Water Bottle H2O Purple',\n",
       " 'H2O Unbreakable Water Bottle - Green',\n",
       " 'Regel Tritan Plastic Sports Water Bottle - Black',\n",
       " 'Glass Water Bottle With Maroon Cap - BB1245MRN',\n",
       " 'Loopy Pet water Bottle - Violet',\n",
       " 'Ivory Premium Glass Bottle - With Yellow Floral',\n",
       " 'Double Walled Glass Bottle With Cream Cap - BB1241CRM',\n",
       " 'Water Bottle - Insulated, Assorted Colour, Stainless Steel']"
      ]
     },
     "execution_count": 40,
     "metadata": {},
     "output_type": "execute_result"
    }
   ],
   "source": [
    "recommendation"
   ]
  },
  {
   "cell_type": "code",
   "execution_count": 41,
   "id": "83a48195",
   "metadata": {},
   "outputs": [
    {
     "data": {
      "text/plain": [
       "['Nutties Chocolate Pack',\n",
       " '5 Star Chocolate Bar',\n",
       " 'Dairy Milk Silk - Hazelnut Chocolate Bar',\n",
       " 'Perk - Chocolate, Home Treats, 175.5 g, 27 Units',\n",
       " 'Dark Milk Chocolate Bar',\n",
       " 'Dairy Milk Silk Mousse - Chocolate Bar',\n",
       " 'Dark Milk Chocolate Bar',\n",
       " 'Chocolate Bar - Fuse',\n",
       " 'Choclairs Gold Coffee',\n",
       " '5 Star Chocolate Home Pack, 200 g, 20 units']"
      ]
     },
     "execution_count": 41,
     "metadata": {},
     "output_type": "execute_result"
    }
   ],
   "source": [
    " get_recommendations('Cadbury Perk - Chocolate Bar', cosine_sim)"
   ]
  },
  {
   "cell_type": "code",
   "execution_count": 42,
   "id": "6f10554c",
   "metadata": {},
   "outputs": [
    {
     "data": {
      "text/plain": [
       "['The Hand Sanitizer With Moisturisers',\n",
       " 'Skincare Hand Wash Refill',\n",
       " 'Wipeout Germ Killing Soap',\n",
       " 'Classic Sandalwood & Tulsi Hand Wash',\n",
       " 'Hand Sanitizer',\n",
       " 'Antibacterial Germ Kill Spray (No Gas) – Safe On Skin, Safe On Surfaces',\n",
       " 'Safe Handz Hand Wash - Lemon & Glycerine With Coconut Milk',\n",
       " 'Hand Wash - Orange Peel',\n",
       " 'Advanced Hand Sanitizer',\n",
       " 'Germ Protection Hand Wash Pump']"
      ]
     },
     "execution_count": 42,
     "metadata": {},
     "output_type": "execute_result"
    }
   ],
   "source": [
    "get_recommendations('Hand Sanitizer - 70% Alcohol Base', cosine_sim)"
   ]
  },
  {
   "cell_type": "code",
   "execution_count": 43,
   "id": "1397fdbd",
   "metadata": {},
   "outputs": [
    {
     "data": {
      "text/plain": [
       "['Disinfectant Surface Cleaning Spray',\n",
       " 'Germ Kill Spray',\n",
       " 'Disinfectant Surface Sanitizer',\n",
       " 'Veggie Wash',\n",
       " 'Vegetable & Fruit Wash Spray with 100% Natural Action',\n",
       " 'Gadget Disinfectant - For Mobiles & Laptops',\n",
       " 'Eco Multipurpose Sanitising Wipes - Fresh Lemon',\n",
       " 'Clothes Disinfectant & Refreshing Spray',\n",
       " 'Veg Wash Prime - Disinfectant Pre-Wash For Whole Vegetables & Fruits',\n",
       " 'Multi-Surface Wipes']"
      ]
     },
     "execution_count": 43,
     "metadata": {},
     "output_type": "execute_result"
    }
   ],
   "source": [
    "get_recommendations('Germ - Removal Multipurpose Wipes', cosine_sim)"
   ]
  }
 ],
 "metadata": {
  "kernelspec": {
   "display_name": "Python 3 (ipykernel)",
   "language": "python",
   "name": "python3"
  },
  "language_info": {
   "codemirror_mode": {
    "name": "ipython",
    "version": 3
   },
   "file_extension": ".py",
   "mimetype": "text/x-python",
   "name": "python",
   "nbconvert_exporter": "python",
   "pygments_lexer": "ipython3",
   "version": "3.9.13"
  }
 },
 "nbformat": 4,
 "nbformat_minor": 5
}
